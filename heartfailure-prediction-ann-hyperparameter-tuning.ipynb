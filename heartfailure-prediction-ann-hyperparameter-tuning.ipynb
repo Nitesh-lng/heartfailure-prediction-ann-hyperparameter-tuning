{
 "cells": [
  {
   "cell_type": "code",
   "execution_count": 1,
   "id": "80428032",
   "metadata": {
    "_cell_guid": "b1076dfc-b9ad-4769-8c92-a6c4dae69d19",
    "_uuid": "8f2839f25d086af736a60e9eeb907d3b93b6e0e5",
    "execution": {
     "iopub.execute_input": "2023-06-07T08:12:21.405743Z",
     "iopub.status.busy": "2023-06-07T08:12:21.405226Z",
     "iopub.status.idle": "2023-06-07T08:12:21.426654Z",
     "shell.execute_reply": "2023-06-07T08:12:21.425301Z"
    },
    "papermill": {
     "duration": 0.033297,
     "end_time": "2023-06-07T08:12:21.429544",
     "exception": false,
     "start_time": "2023-06-07T08:12:21.396247",
     "status": "completed"
    },
    "tags": []
   },
   "outputs": [
    {
     "name": "stdout",
     "output_type": "stream",
     "text": [
      "/kaggle/input/heart-failure-clinical-data/heart_failure_clinical_records_dataset.csv\n"
     ]
    }
   ],
   "source": [
    "# This Python 3 environment comes with many helpful analytics libraries installed\n",
    "# It is defined by the kaggle/python Docker image: https://github.com/kaggle/docker-python\n",
    "# For example, here's several helpful packages to load\n",
    "\n",
    "import numpy as np # linear algebra\n",
    "import pandas as pd # data processing, CSV file I/O (e.g. pd.read_csv)\n",
    "\n",
    "# Input data files are available in the read-only \"../input/\" directory\n",
    "# For example, running this (by clicking run or pressing Shift+Enter) will list all files under the input directory\n",
    "\n",
    "import os\n",
    "for dirname, _, filenames in os.walk('/kaggle/input'):\n",
    "    for filename in filenames:\n",
    "        print(os.path.join(dirname, filename))\n",
    "\n",
    "# You can write up to 20GB to the current directory (/kaggle/working/) that gets preserved as output when you create a version using \"Save & Run All\" \n",
    "# You can also write temporary files to /kaggle/temp/, but they won't be saved outside of the current session"
   ]
  },
  {
   "cell_type": "code",
   "execution_count": 2,
   "id": "3e631a99",
   "metadata": {
    "execution": {
     "iopub.execute_input": "2023-06-07T08:12:21.444407Z",
     "iopub.status.busy": "2023-06-07T08:12:21.444012Z",
     "iopub.status.idle": "2023-06-07T08:12:33.574877Z",
     "shell.execute_reply": "2023-06-07T08:12:33.573602Z"
    },
    "papermill": {
     "duration": 12.141376,
     "end_time": "2023-06-07T08:12:33.577462",
     "exception": false,
     "start_time": "2023-06-07T08:12:21.436086",
     "status": "completed"
    },
    "tags": []
   },
   "outputs": [
    {
     "name": "stderr",
     "output_type": "stream",
     "text": [
      "/opt/conda/lib/python3.10/site-packages/tensorflow_io/python/ops/__init__.py:98: UserWarning: unable to load libtensorflow_io_plugins.so: unable to open file: libtensorflow_io_plugins.so, from paths: ['/opt/conda/lib/python3.10/site-packages/tensorflow_io/python/ops/libtensorflow_io_plugins.so']\n",
      "caused by: ['/opt/conda/lib/python3.10/site-packages/tensorflow_io/python/ops/libtensorflow_io_plugins.so: undefined symbol: _ZN3tsl6StatusC1EN10tensorflow5error4CodeESt17basic_string_viewIcSt11char_traitsIcEENS_14SourceLocationE']\n",
      "  warnings.warn(f\"unable to load libtensorflow_io_plugins.so: {e}\")\n",
      "/opt/conda/lib/python3.10/site-packages/tensorflow_io/python/ops/__init__.py:104: UserWarning: file system plugins are not loaded: unable to open file: libtensorflow_io.so, from paths: ['/opt/conda/lib/python3.10/site-packages/tensorflow_io/python/ops/libtensorflow_io.so']\n",
      "caused by: ['/opt/conda/lib/python3.10/site-packages/tensorflow_io/python/ops/libtensorflow_io.so: undefined symbol: _ZTVN10tensorflow13GcsFileSystemE']\n",
      "  warnings.warn(f\"file system plugins are not loaded: {e}\")\n",
      "/tmp/ipykernel_20/1775874600.py:5: DeprecationWarning: `import kerastuner` is deprecated, please use `import keras_tuner`.\n",
      "  import kerastuner as kt\n"
     ]
    }
   ],
   "source": [
    "import pandas as pd\n",
    "import numpy as np\n",
    "import matplotlib.pyplot as plt\n",
    "import seaborn as sns\n",
    "import kerastuner as kt\n",
    "import tensorflow as tf\n",
    "from tensorflow import keras\n",
    "from tensorflow.keras import layers\n",
    "from sklearn.model_selection import train_test_split\n",
    "from sklearn.preprocessing import StandardScaler"
   ]
  },
  {
   "cell_type": "code",
   "execution_count": 3,
   "id": "070de56d",
   "metadata": {
    "execution": {
     "iopub.execute_input": "2023-06-07T08:12:33.593468Z",
     "iopub.status.busy": "2023-06-07T08:12:33.592680Z",
     "iopub.status.idle": "2023-06-07T08:12:33.617237Z",
     "shell.execute_reply": "2023-06-07T08:12:33.615839Z"
    },
    "papermill": {
     "duration": 0.036352,
     "end_time": "2023-06-07T08:12:33.620588",
     "exception": false,
     "start_time": "2023-06-07T08:12:33.584236",
     "status": "completed"
    },
    "tags": []
   },
   "outputs": [],
   "source": [
    "# Read the dataset\n",
    "df = pd.read_csv('/kaggle/input/heart-failure-clinical-data/heart_failure_clinical_records_dataset.csv')"
   ]
  },
  {
   "cell_type": "code",
   "execution_count": 4,
   "id": "608cb82b",
   "metadata": {
    "execution": {
     "iopub.execute_input": "2023-06-07T08:12:33.636844Z",
     "iopub.status.busy": "2023-06-07T08:12:33.636403Z",
     "iopub.status.idle": "2023-06-07T08:12:33.673972Z",
     "shell.execute_reply": "2023-06-07T08:12:33.672717Z"
    },
    "papermill": {
     "duration": 0.048866,
     "end_time": "2023-06-07T08:12:33.676650",
     "exception": false,
     "start_time": "2023-06-07T08:12:33.627784",
     "status": "completed"
    },
    "tags": []
   },
   "outputs": [
    {
     "data": {
      "text/html": [
       "<div>\n",
       "<style scoped>\n",
       "    .dataframe tbody tr th:only-of-type {\n",
       "        vertical-align: middle;\n",
       "    }\n",
       "\n",
       "    .dataframe tbody tr th {\n",
       "        vertical-align: top;\n",
       "    }\n",
       "\n",
       "    .dataframe thead th {\n",
       "        text-align: right;\n",
       "    }\n",
       "</style>\n",
       "<table border=\"1\" class=\"dataframe\">\n",
       "  <thead>\n",
       "    <tr style=\"text-align: right;\">\n",
       "      <th></th>\n",
       "      <th>age</th>\n",
       "      <th>anaemia</th>\n",
       "      <th>creatinine_phosphokinase</th>\n",
       "      <th>diabetes</th>\n",
       "      <th>ejection_fraction</th>\n",
       "      <th>high_blood_pressure</th>\n",
       "      <th>platelets</th>\n",
       "      <th>serum_creatinine</th>\n",
       "      <th>serum_sodium</th>\n",
       "      <th>sex</th>\n",
       "      <th>smoking</th>\n",
       "      <th>time</th>\n",
       "      <th>DEATH_EVENT</th>\n",
       "    </tr>\n",
       "  </thead>\n",
       "  <tbody>\n",
       "    <tr>\n",
       "      <th>0</th>\n",
       "      <td>75.0</td>\n",
       "      <td>0</td>\n",
       "      <td>582</td>\n",
       "      <td>0</td>\n",
       "      <td>20</td>\n",
       "      <td>1</td>\n",
       "      <td>265000.00</td>\n",
       "      <td>1.9</td>\n",
       "      <td>130</td>\n",
       "      <td>1</td>\n",
       "      <td>0</td>\n",
       "      <td>4</td>\n",
       "      <td>1</td>\n",
       "    </tr>\n",
       "    <tr>\n",
       "      <th>1</th>\n",
       "      <td>55.0</td>\n",
       "      <td>0</td>\n",
       "      <td>7861</td>\n",
       "      <td>0</td>\n",
       "      <td>38</td>\n",
       "      <td>0</td>\n",
       "      <td>263358.03</td>\n",
       "      <td>1.1</td>\n",
       "      <td>136</td>\n",
       "      <td>1</td>\n",
       "      <td>0</td>\n",
       "      <td>6</td>\n",
       "      <td>1</td>\n",
       "    </tr>\n",
       "    <tr>\n",
       "      <th>2</th>\n",
       "      <td>65.0</td>\n",
       "      <td>0</td>\n",
       "      <td>146</td>\n",
       "      <td>0</td>\n",
       "      <td>20</td>\n",
       "      <td>0</td>\n",
       "      <td>162000.00</td>\n",
       "      <td>1.3</td>\n",
       "      <td>129</td>\n",
       "      <td>1</td>\n",
       "      <td>1</td>\n",
       "      <td>7</td>\n",
       "      <td>1</td>\n",
       "    </tr>\n",
       "  </tbody>\n",
       "</table>\n",
       "</div>"
      ],
      "text/plain": [
       "    age  anaemia  creatinine_phosphokinase  diabetes  ejection_fraction  \\\n",
       "0  75.0        0                       582         0                 20   \n",
       "1  55.0        0                      7861         0                 38   \n",
       "2  65.0        0                       146         0                 20   \n",
       "\n",
       "   high_blood_pressure  platelets  serum_creatinine  serum_sodium  sex  \\\n",
       "0                    1  265000.00               1.9           130    1   \n",
       "1                    0  263358.03               1.1           136    1   \n",
       "2                    0  162000.00               1.3           129    1   \n",
       "\n",
       "   smoking  time  DEATH_EVENT  \n",
       "0        0     4            1  \n",
       "1        0     6            1  \n",
       "2        1     7            1  "
      ]
     },
     "execution_count": 4,
     "metadata": {},
     "output_type": "execute_result"
    }
   ],
   "source": [
    "df.head(3)"
   ]
  },
  {
   "cell_type": "code",
   "execution_count": 5,
   "id": "7fd7ce06",
   "metadata": {
    "execution": {
     "iopub.execute_input": "2023-06-07T08:12:33.692754Z",
     "iopub.status.busy": "2023-06-07T08:12:33.692361Z",
     "iopub.status.idle": "2023-06-07T08:12:33.702412Z",
     "shell.execute_reply": "2023-06-07T08:12:33.701508Z"
    },
    "papermill": {
     "duration": 0.021054,
     "end_time": "2023-06-07T08:12:33.704949",
     "exception": false,
     "start_time": "2023-06-07T08:12:33.683895",
     "status": "completed"
    },
    "tags": []
   },
   "outputs": [
    {
     "data": {
      "text/plain": [
       "age                         0\n",
       "anaemia                     0\n",
       "creatinine_phosphokinase    0\n",
       "diabetes                    0\n",
       "ejection_fraction           0\n",
       "high_blood_pressure         0\n",
       "platelets                   0\n",
       "serum_creatinine            0\n",
       "serum_sodium                0\n",
       "sex                         0\n",
       "smoking                     0\n",
       "time                        0\n",
       "DEATH_EVENT                 0\n",
       "dtype: int64"
      ]
     },
     "execution_count": 5,
     "metadata": {},
     "output_type": "execute_result"
    }
   ],
   "source": [
    "df.isnull().sum()"
   ]
  },
  {
   "cell_type": "code",
   "execution_count": 6,
   "id": "79c1cb6a",
   "metadata": {
    "execution": {
     "iopub.execute_input": "2023-06-07T08:12:33.722548Z",
     "iopub.status.busy": "2023-06-07T08:12:33.722136Z",
     "iopub.status.idle": "2023-06-07T08:12:33.748833Z",
     "shell.execute_reply": "2023-06-07T08:12:33.747362Z"
    },
    "papermill": {
     "duration": 0.039604,
     "end_time": "2023-06-07T08:12:33.751696",
     "exception": false,
     "start_time": "2023-06-07T08:12:33.712092",
     "status": "completed"
    },
    "tags": []
   },
   "outputs": [
    {
     "name": "stdout",
     "output_type": "stream",
     "text": [
      "<class 'pandas.core.frame.DataFrame'>\n",
      "RangeIndex: 299 entries, 0 to 298\n",
      "Data columns (total 13 columns):\n",
      " #   Column                    Non-Null Count  Dtype  \n",
      "---  ------                    --------------  -----  \n",
      " 0   age                       299 non-null    float64\n",
      " 1   anaemia                   299 non-null    int64  \n",
      " 2   creatinine_phosphokinase  299 non-null    int64  \n",
      " 3   diabetes                  299 non-null    int64  \n",
      " 4   ejection_fraction         299 non-null    int64  \n",
      " 5   high_blood_pressure       299 non-null    int64  \n",
      " 6   platelets                 299 non-null    float64\n",
      " 7   serum_creatinine          299 non-null    float64\n",
      " 8   serum_sodium              299 non-null    int64  \n",
      " 9   sex                       299 non-null    int64  \n",
      " 10  smoking                   299 non-null    int64  \n",
      " 11  time                      299 non-null    int64  \n",
      " 12  DEATH_EVENT               299 non-null    int64  \n",
      "dtypes: float64(3), int64(10)\n",
      "memory usage: 30.5 KB\n"
     ]
    }
   ],
   "source": [
    "df.info()"
   ]
  },
  {
   "cell_type": "code",
   "execution_count": 7,
   "id": "b4c99436",
   "metadata": {
    "execution": {
     "iopub.execute_input": "2023-06-07T08:12:33.768376Z",
     "iopub.status.busy": "2023-06-07T08:12:33.767828Z",
     "iopub.status.idle": "2023-06-07T08:12:33.782771Z",
     "shell.execute_reply": "2023-06-07T08:12:33.781509Z"
    },
    "papermill": {
     "duration": 0.02618,
     "end_time": "2023-06-07T08:12:33.785390",
     "exception": false,
     "start_time": "2023-06-07T08:12:33.759210",
     "status": "completed"
    },
    "tags": []
   },
   "outputs": [],
   "source": [
    "# Scale the features\n",
    "scaler = StandardScaler()\n",
    "X = df.drop(columns=['DEATH_EVENT'])\n",
    "y = df['DEATH_EVENT']\n",
    "X = scaler.fit_transform(X)"
   ]
  },
  {
   "cell_type": "code",
   "execution_count": 8,
   "id": "b3d02a60",
   "metadata": {
    "execution": {
     "iopub.execute_input": "2023-06-07T08:12:33.801771Z",
     "iopub.status.busy": "2023-06-07T08:12:33.801403Z",
     "iopub.status.idle": "2023-06-07T08:12:33.807129Z",
     "shell.execute_reply": "2023-06-07T08:12:33.806015Z"
    },
    "papermill": {
     "duration": 0.016861,
     "end_time": "2023-06-07T08:12:33.809496",
     "exception": false,
     "start_time": "2023-06-07T08:12:33.792635",
     "status": "completed"
    },
    "tags": []
   },
   "outputs": [],
   "source": [
    "# Split the data into train and test sets\n",
    "X_train, X_test, y_train, y_test = train_test_split(X, y, test_size=0.3)"
   ]
  },
  {
   "cell_type": "code",
   "execution_count": 9,
   "id": "68db03b4",
   "metadata": {
    "execution": {
     "iopub.execute_input": "2023-06-07T08:12:33.826131Z",
     "iopub.status.busy": "2023-06-07T08:12:33.825288Z",
     "iopub.status.idle": "2023-06-07T08:12:33.834621Z",
     "shell.execute_reply": "2023-06-07T08:12:33.833380Z"
    },
    "papermill": {
     "duration": 0.020709,
     "end_time": "2023-06-07T08:12:33.837339",
     "exception": false,
     "start_time": "2023-06-07T08:12:33.816630",
     "status": "completed"
    },
    "tags": []
   },
   "outputs": [],
   "source": [
    "# Define the model building function for Keras Tuner\n",
    "def build_model(hp):\n",
    "    model = keras.Sequential()\n",
    "    for i in range(hp.Int('Num_Layers', min_value=1, max_value=12)):\n",
    "        model.add(\n",
    "            layers.Dense(\n",
    "                units=hp.Int('Neuron_' + str(i), min_value=8, max_value=32, step=6),\n",
    "                activation=hp.Choice('Activation_' + str(i), values=['relu', 'tanh', 'sigmoid']),\n",
    "                input_dim=12 if i == 0 else None\n",
    "            )\n",
    "        )\n",
    "    \n",
    "    # Add the last layer of the neural network\n",
    "    model.add(layers.Dense(1, activation='sigmoid'))\n",
    "    \n",
    "    model.compile(\n",
    "        optimizer=hp.Choice('optimizer', values=['rmsprop', 'adam', 'nadam', 'adadelta']),\n",
    "        loss='binary_crossentropy',\n",
    "        metrics=['accuracy']\n",
    "    )\n",
    "    \n",
    "    return model"
   ]
  },
  {
   "cell_type": "markdown",
   "id": "4bb2d9a7",
   "metadata": {
    "papermill": {
     "duration": 0.007104,
     "end_time": "2023-06-07T08:12:33.852039",
     "exception": false,
     "start_time": "2023-06-07T08:12:33.844935",
     "status": "completed"
    },
    "tags": []
   },
   "source": [
    "**The code defines a function to build a sequential neural network model with variable number of layers, variable number of neurons per layer, and variable activation functions, and compiles the model with a choice of optimizer, binary crossentropy loss, and accuracy metric.**"
   ]
  },
  {
   "cell_type": "code",
   "execution_count": 10,
   "id": "ee6f402e",
   "metadata": {
    "execution": {
     "iopub.execute_input": "2023-06-07T08:12:33.868869Z",
     "iopub.status.busy": "2023-06-07T08:12:33.867860Z",
     "iopub.status.idle": "2023-06-07T08:12:34.076148Z",
     "shell.execute_reply": "2023-06-07T08:12:34.074937Z"
    },
    "papermill": {
     "duration": 0.219672,
     "end_time": "2023-06-07T08:12:34.079051",
     "exception": false,
     "start_time": "2023-06-07T08:12:33.859379",
     "status": "completed"
    },
    "tags": []
   },
   "outputs": [],
   "source": [
    "# Create the tuner object\n",
    "tuner = kt.RandomSearch(\n",
    "    build_model,\n",
    "    objective='val_accuracy',\n",
    "    max_trials=10,\n",
    "    directory='Full_One',\n",
    "    project_name='Accu'\n",
    ")\n"
   ]
  },
  {
   "cell_type": "code",
   "execution_count": 11,
   "id": "84f3e88c",
   "metadata": {
    "execution": {
     "iopub.execute_input": "2023-06-07T08:12:34.096385Z",
     "iopub.status.busy": "2023-06-07T08:12:34.095285Z",
     "iopub.status.idle": "2023-06-07T08:13:07.328265Z",
     "shell.execute_reply": "2023-06-07T08:13:07.326917Z"
    },
    "papermill": {
     "duration": 33.244428,
     "end_time": "2023-06-07T08:13:07.331047",
     "exception": false,
     "start_time": "2023-06-07T08:12:34.086619",
     "status": "completed"
    },
    "tags": []
   },
   "outputs": [
    {
     "name": "stdout",
     "output_type": "stream",
     "text": [
      "Trial 10 Complete [00h 00m 03s]\n",
      "val_accuracy: 0.5888888835906982\n",
      "\n",
      "Best val_accuracy So Far: 0.7111111283302307\n",
      "Total elapsed time: 00h 00m 33s\n"
     ]
    }
   ],
   "source": [
    "# Perform the hyperparameter search\n",
    "tuner.search(X_train, y_train, epochs=10, validation_data=(X_test, y_test))"
   ]
  },
  {
   "cell_type": "code",
   "execution_count": 12,
   "id": "dbfaa5a8",
   "metadata": {
    "execution": {
     "iopub.execute_input": "2023-06-07T08:13:07.347591Z",
     "iopub.status.busy": "2023-06-07T08:13:07.347187Z",
     "iopub.status.idle": "2023-06-07T08:13:07.352350Z",
     "shell.execute_reply": "2023-06-07T08:13:07.351230Z"
    },
    "papermill": {
     "duration": 0.016471,
     "end_time": "2023-06-07T08:13:07.354824",
     "exception": false,
     "start_time": "2023-06-07T08:13:07.338353",
     "status": "completed"
    },
    "tags": []
   },
   "outputs": [],
   "source": [
    "# Get the best hyperparameters\n",
    "best_hyperparameters = tuner.get_best_hyperparameters()[0].values"
   ]
  },
  {
   "cell_type": "code",
   "execution_count": 13,
   "id": "1c9c91aa",
   "metadata": {
    "execution": {
     "iopub.execute_input": "2023-06-07T08:13:07.370728Z",
     "iopub.status.busy": "2023-06-07T08:13:07.370354Z",
     "iopub.status.idle": "2023-06-07T08:13:07.790729Z",
     "shell.execute_reply": "2023-06-07T08:13:07.789547Z"
    },
    "papermill": {
     "duration": 0.431443,
     "end_time": "2023-06-07T08:13:07.793412",
     "exception": false,
     "start_time": "2023-06-07T08:13:07.361969",
     "status": "completed"
    },
    "tags": []
   },
   "outputs": [],
   "source": [
    "# Build the model with the best hyperparameters\n",
    "model = tuner.get_best_models(num_models=1)[0]\n"
   ]
  },
  {
   "cell_type": "code",
   "execution_count": 14,
   "id": "da7cfbd7",
   "metadata": {
    "execution": {
     "iopub.execute_input": "2023-06-07T08:13:07.810516Z",
     "iopub.status.busy": "2023-06-07T08:13:07.810056Z",
     "iopub.status.idle": "2023-06-07T08:13:07.815662Z",
     "shell.execute_reply": "2023-06-07T08:13:07.814538Z"
    },
    "papermill": {
     "duration": 0.017295,
     "end_time": "2023-06-07T08:13:07.818423",
     "exception": false,
     "start_time": "2023-06-07T08:13:07.801128",
     "status": "completed"
    },
    "tags": []
   },
   "outputs": [],
   "source": [
    "# Define the early stopping callback\n",
    "callback = keras.callbacks.EarlyStopping(\n",
    "    monitor='val_loss',\n",
    "    min_delta=0.0001,\n",
    "    patience=5,\n",
    "    verbose=1,\n",
    "    mode='auto',\n",
    "    baseline=None,\n",
    "    restore_best_weights=False\n",
    ")"
   ]
  },
  {
   "cell_type": "code",
   "execution_count": 15,
   "id": "80f84d3d",
   "metadata": {
    "execution": {
     "iopub.execute_input": "2023-06-07T08:13:07.835534Z",
     "iopub.status.busy": "2023-06-07T08:13:07.834363Z",
     "iopub.status.idle": "2023-06-07T08:13:11.343619Z",
     "shell.execute_reply": "2023-06-07T08:13:11.342190Z"
    },
    "papermill": {
     "duration": 3.520076,
     "end_time": "2023-06-07T08:13:11.346086",
     "exception": false,
     "start_time": "2023-06-07T08:13:07.826010",
     "status": "completed"
    },
    "tags": []
   },
   "outputs": [
    {
     "name": "stdout",
     "output_type": "stream",
     "text": [
      "Epoch 12/2000\n",
      "7/7 [==============================] - 2s 38ms/step - loss: 0.6276 - accuracy: 0.7990 - val_loss: 0.6428 - val_accuracy: 0.7000\n",
      "Epoch 13/2000\n",
      "7/7 [==============================] - 0s 8ms/step - loss: 0.6102 - accuracy: 0.7799 - val_loss: 0.6350 - val_accuracy: 0.6556\n",
      "Epoch 14/2000\n",
      "7/7 [==============================] - 0s 8ms/step - loss: 0.5924 - accuracy: 0.7560 - val_loss: 0.6279 - val_accuracy: 0.6333\n",
      "Epoch 15/2000\n",
      "7/7 [==============================] - 0s 8ms/step - loss: 0.5758 - accuracy: 0.7512 - val_loss: 0.6213 - val_accuracy: 0.6333\n",
      "Epoch 16/2000\n",
      "7/7 [==============================] - 0s 8ms/step - loss: 0.5594 - accuracy: 0.7560 - val_loss: 0.6144 - val_accuracy: 0.6333\n",
      "Epoch 17/2000\n",
      "7/7 [==============================] - 0s 8ms/step - loss: 0.5439 - accuracy: 0.7560 - val_loss: 0.6081 - val_accuracy: 0.6444\n",
      "Epoch 18/2000\n",
      "7/7 [==============================] - 0s 7ms/step - loss: 0.5292 - accuracy: 0.7560 - val_loss: 0.6024 - val_accuracy: 0.6444\n",
      "Epoch 19/2000\n",
      "7/7 [==============================] - 0s 8ms/step - loss: 0.5149 - accuracy: 0.7560 - val_loss: 0.5963 - val_accuracy: 0.6444\n",
      "Epoch 20/2000\n",
      "7/7 [==============================] - 0s 8ms/step - loss: 0.5008 - accuracy: 0.7751 - val_loss: 0.5882 - val_accuracy: 0.6556\n",
      "Epoch 21/2000\n",
      "7/7 [==============================] - 0s 8ms/step - loss: 0.4877 - accuracy: 0.7799 - val_loss: 0.5818 - val_accuracy: 0.6667\n",
      "Epoch 22/2000\n",
      "7/7 [==============================] - 0s 8ms/step - loss: 0.4750 - accuracy: 0.7990 - val_loss: 0.5761 - val_accuracy: 0.6667\n",
      "Epoch 23/2000\n",
      "7/7 [==============================] - 0s 8ms/step - loss: 0.4626 - accuracy: 0.8134 - val_loss: 0.5704 - val_accuracy: 0.6778\n",
      "Epoch 24/2000\n",
      "7/7 [==============================] - 0s 8ms/step - loss: 0.4512 - accuracy: 0.8182 - val_loss: 0.5644 - val_accuracy: 0.6889\n",
      "Epoch 25/2000\n",
      "7/7 [==============================] - 0s 8ms/step - loss: 0.4408 - accuracy: 0.8182 - val_loss: 0.5585 - val_accuracy: 0.6889\n",
      "Epoch 26/2000\n",
      "7/7 [==============================] - 0s 8ms/step - loss: 0.4307 - accuracy: 0.8230 - val_loss: 0.5547 - val_accuracy: 0.6889\n",
      "Epoch 27/2000\n",
      "7/7 [==============================] - 0s 7ms/step - loss: 0.4209 - accuracy: 0.8278 - val_loss: 0.5515 - val_accuracy: 0.6889\n",
      "Epoch 28/2000\n",
      "7/7 [==============================] - 0s 8ms/step - loss: 0.4111 - accuracy: 0.8278 - val_loss: 0.5477 - val_accuracy: 0.7111\n",
      "Epoch 29/2000\n",
      "7/7 [==============================] - 0s 7ms/step - loss: 0.4025 - accuracy: 0.8373 - val_loss: 0.5436 - val_accuracy: 0.7111\n",
      "Epoch 30/2000\n",
      "7/7 [==============================] - 0s 7ms/step - loss: 0.3940 - accuracy: 0.8565 - val_loss: 0.5396 - val_accuracy: 0.7111\n",
      "Epoch 31/2000\n",
      "7/7 [==============================] - 0s 8ms/step - loss: 0.3857 - accuracy: 0.8660 - val_loss: 0.5383 - val_accuracy: 0.7111\n",
      "Epoch 32/2000\n",
      "7/7 [==============================] - 0s 8ms/step - loss: 0.3780 - accuracy: 0.8612 - val_loss: 0.5353 - val_accuracy: 0.7111\n",
      "Epoch 33/2000\n",
      "7/7 [==============================] - 0s 8ms/step - loss: 0.3704 - accuracy: 0.8756 - val_loss: 0.5347 - val_accuracy: 0.7111\n",
      "Epoch 34/2000\n",
      "7/7 [==============================] - 0s 7ms/step - loss: 0.3637 - accuracy: 0.8756 - val_loss: 0.5338 - val_accuracy: 0.7111\n",
      "Epoch 35/2000\n",
      "7/7 [==============================] - 0s 7ms/step - loss: 0.3571 - accuracy: 0.8804 - val_loss: 0.5343 - val_accuracy: 0.7111\n",
      "Epoch 36/2000\n",
      "7/7 [==============================] - 0s 8ms/step - loss: 0.3505 - accuracy: 0.8900 - val_loss: 0.5349 - val_accuracy: 0.7111\n",
      "Epoch 37/2000\n",
      "7/7 [==============================] - 0s 7ms/step - loss: 0.3448 - accuracy: 0.8900 - val_loss: 0.5385 - val_accuracy: 0.7111\n",
      "Epoch 38/2000\n",
      "7/7 [==============================] - 0s 7ms/step - loss: 0.3389 - accuracy: 0.8900 - val_loss: 0.5406 - val_accuracy: 0.7111\n",
      "Epoch 39/2000\n",
      "7/7 [==============================] - 0s 10ms/step - loss: 0.3336 - accuracy: 0.8900 - val_loss: 0.5425 - val_accuracy: 0.7111\n",
      "Epoch 39: early stopping\n"
     ]
    }
   ],
   "source": [
    "# Train the model\n",
    "hist = model.fit(\n",
    "    X_train, y_train,\n",
    "    epochs=2000,\n",
    "    initial_epoch=11,\n",
    "    validation_data=(X_test, y_test),\n",
    "    callbacks=[callback]\n",
    ")\n"
   ]
  },
  {
   "cell_type": "code",
   "execution_count": 16,
   "id": "fd1708de",
   "metadata": {
    "execution": {
     "iopub.execute_input": "2023-06-07T08:13:11.377927Z",
     "iopub.status.busy": "2023-06-07T08:13:11.377522Z",
     "iopub.status.idle": "2023-06-07T08:13:11.724018Z",
     "shell.execute_reply": "2023-06-07T08:13:11.722876Z"
    },
    "papermill": {
     "duration": 0.365993,
     "end_time": "2023-06-07T08:13:11.726821",
     "exception": false,
     "start_time": "2023-06-07T08:13:11.360828",
     "status": "completed"
    },
    "tags": []
   },
   "outputs": [
    {
     "data": {
      "image/png": "[encoded data removed]",
      "text/plain": [
       "<Figure size 640x480 with 1 Axes>"
      ]
     },
     "metadata": {},
     "output_type": "display_data"
    }
   ],
   "source": [
    "plt.plot(hist.history['accuracy'])\n",
    "plt.title('model accuracy')\n",
    "plt.ylabel('accuracy')\n",
    "plt.xlabel('epochs')\n",
    "plt.legend(['train','test'],loc='upper left')\n",
    "plt.show()"
   ]
  },
  {
   "cell_type": "code",
   "execution_count": null,
   "id": "ffdf14eb",
   "metadata": {
    "papermill": {
     "duration": 0.014919,
     "end_time": "2023-06-07T08:13:11.756986",
     "exception": false,
     "start_time": "2023-06-07T08:13:11.742067",
     "status": "completed"
    },
    "tags": []
   },
   "outputs": [],
   "source": []
  }
 ],
 "metadata": {
  "kernelspec": {
   "display_name": "Python 3",
   "language": "python",
   "name": "python3"
  },
  "language_info": {
   "codemirror_mode": {
    "name": "ipython",
    "version": 3
   },
   "file_extension": ".py",
   "mimetype": "text/x-python",
   "name": "python",
   "nbconvert_exporter": "python",
   "pygments_lexer": "ipython3",
   "version": "3.10.10"
  },
  "papermill": {
   "default_parameters": {},
   "duration": 65.749121,
   "end_time": "2023-06-07T08:13:14.406790",
   "environment_variables": {},
   "exception": null,
   "input_path": "__notebook__.ipynb",
   "output_path": "__notebook__.ipynb",
   "parameters": {},
   "start_time": "2023-06-07T08:12:08.657669",
   "version": "2.4.0"
  }
 },
 "nbformat": 4,
 "nbformat_minor": 5
}
